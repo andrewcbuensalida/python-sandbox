{
 "cells": [
  {
   "cell_type": "code",
   "execution_count": null,
   "metadata": {},
   "outputs": [],
   "source": [
    "a = ['b','c','d','e','f','g','h']\n",
    "for letter in range(len(a)):\n",
    "    print(a[letter] + ' is at index ' + str(letter) + ' in the list a')\n",
    "\n"
   ]
  }
 ],
 "metadata": {
  "language_info": {
   "name": "python"
  }
 },
 "nbformat": 4,
 "nbformat_minor": 2
}
